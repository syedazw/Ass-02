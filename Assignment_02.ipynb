{
 "cells": [
  {
   "cell_type": "markdown",
   "metadata": {
    "id": "bb0O0xtk1v9t"
   },
   "source": [
    "## Task 01:\n",
    "\n",
    "Print Your Name with your Father name and Date of birth using suitable escape sequence charactor\n",
    "\n"
   ]
  },
  {
   "cell_type": "code",
   "execution_count": 3,
   "metadata": {
    "id": "U7LLGIkO2Ixa"
   },
   "outputs": [
    {
     "name": "stdout",
     "output_type": "stream",
     "text": [
      "Name: Syeda Zainab Wahaj\n",
      "Date of Birth: 10-11-2002\n"
     ]
    }
   ],
   "source": [
    "# Write your code here\n",
    "name = \"Syeda Zainab\"\n",
    "father_name = \"Wahaj\"\n",
    "dob = \"10-11-2002\"\n",
    "\n",
    "print(\"Name: {} {}\\nDate of Birth: {}\".format(name, father_name, dob))\n"
   ]
  },
  {
   "cell_type": "markdown",
   "metadata": {
    "id": "TU-xwiLV2NgB"
   },
   "source": [
    "# Task 02:\n",
    "\n",
    "Write your small bio using variables and print it using print function"
   ]
  },
  {
   "cell_type": "code",
   "execution_count": 5,
   "metadata": {
    "id": "Dw8w3rwl2wDB"
   },
   "outputs": [
    {
     "name": "stdout",
     "output_type": "stream",
     "text": [
      "Hello! My name is Syeda. I'm 21 years old. And I am a Software Engineer\n"
     ]
    }
   ],
   "source": [
    "# Write your code here\n",
    "name = \"Syeda\"\n",
    "age = 21\n",
    "occupation = \"Software Engineer\"\n",
    "\n",
    "print(f\"Hello! My name is {name}. I'm {age} years old. And I am a {occupation}\")\n"
   ]
  },
  {
   "cell_type": "markdown",
   "metadata": {
    "id": "F2lcZuDe2ztv"
   },
   "source": [
    "# Task 03:\n",
    "\n",
    "Write a program in which use all the operators we can use in Python"
   ]
  },
  {
   "cell_type": "code",
   "execution_count": 9,
   "metadata": {
    "id": "lEJhzsXh3e7K"
   },
   "outputs": [
    {
     "name": "stdout",
     "output_type": "stream",
     "text": [
      "============== All Operators ==========\n",
      "Addition: 21\n",
      "Subtraction: 1\n",
      "Multiplication: 110\n",
      "Division: 1.1\n",
      "Modulus: 1\n",
      "Exponentiation: 25937424601\n",
      "Floor Division: 1\n"
     ]
    }
   ],
   "source": [
    "# Write your code here\n",
    "# Arithmetic operators\n",
    "y = 11\n",
    "z = 10\n",
    "additon = y + z\n",
    "subtraction = y - z\n",
    "multiplication = y * z\n",
    "division = y / z\n",
    "modulus = y % z\n",
    "exponentiation = y ** z\n",
    "floor_division = y // z\n",
    "\n",
    "print(\"============== All Operators =============\")\n",
    "print(\"Addition:\", addition)\n",
    "print(\"Subtraction:\", subtraction)\n",
    "print(\"Multiplication:\", multiplication)\n",
    "print(\"Division:\", division)\n",
    "print(\"Modulus:\", modulus)\n",
    "print(\"Exponentiation:\", exponentiation)\n",
    "print(\"Floor Division:\", floor_division)"
   ]
  },
  {
   "cell_type": "markdown",
   "metadata": {
    "id": "i4N14TJU3l7n"
   },
   "source": [
    "# Task 04:\n",
    "\n",
    "\n",
    "1. Mention Marks of English , Islamiat and Maths out of 100 in 3 different variables\n",
    "\n",
    "2. Mention Variable of Total Marks and assign 300 to it\n",
    "\n",
    "3. Calculate Percentage"
   ]
  },
  {
   "cell_type": "code",
   "execution_count": 10,
   "metadata": {
    "id": "nxojzvRg5PP4"
   },
   "outputs": [
    {
     "name": "stdout",
     "output_type": "stream",
     "text": [
      "Percentage: 83.33333333333334\n"
     ]
    }
   ],
   "source": [
    "# Write your code here\n",
    "\n",
    "#Obtained marks\n",
    "eng_marks = 85\n",
    "isla_marks = 75\n",
    "maths_marks = 90\n",
    "\n",
    "# Total marks\n",
    "total_marks = 300\n",
    "\n",
    "# Calculating total obtained marks\n",
    "total_obtained_marks = eng_marks + isla_marks + maths_marks\n",
    "\n",
    "# Calculating percentage\n",
    "percentage = (total_obtained_marks / total_marks) * 100\n",
    "\n",
    "# Printing the result\n",
    "print(\"Percentage:\", percentage)\n"
   ]
  }
 ],
 "metadata": {
  "colab": {
   "provenance": []
  },
  "kernelspec": {
   "display_name": "Python 3 (ipykernel)",
   "language": "python",
   "name": "python3"
  },
  "language_info": {
   "codemirror_mode": {
    "name": "ipython",
    "version": 3
   },
   "file_extension": ".py",
   "mimetype": "text/x-python",
   "name": "python",
   "nbconvert_exporter": "python",
   "pygments_lexer": "ipython3",
   "version": "3.11.7"
  }
 },
 "nbformat": 4,
 "nbformat_minor": 4
}
